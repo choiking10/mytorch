{
 "cells": [
  {
   "cell_type": "code",
   "execution_count": 1,
   "id": "7e7ba033",
   "metadata": {},
   "outputs": [],
   "source": [
    "import sys\n",
    "\n",
    "sys.path.append(\"..\")"
   ]
  },
  {
   "cell_type": "code",
   "execution_count": 2,
   "id": "95cc4dd2",
   "metadata": {},
   "outputs": [
    {
     "name": "stdout",
     "output_type": "stream",
     "text": [
      "[1 2 3]\n"
     ]
    }
   ],
   "source": [
    "import numpy as np \n",
    "x = np.array([1, 2, 3])\n",
    "np.save('test.npy', x)\n",
    "\n",
    "x = np.load('test.npy')\n",
    "print(x)"
   ]
  },
  {
   "cell_type": "code",
   "execution_count": 3,
   "id": "13bc7b6d",
   "metadata": {},
   "outputs": [
    {
     "name": "stdout",
     "output_type": "stream",
     "text": [
      "[1 2 3]\n",
      "[4 5 6]\n"
     ]
    }
   ],
   "source": [
    "x1 = np.array([1, 2, 3])\n",
    "x2 = np.array([4, 5, 6])\n",
    "np.savez('test.npz', x1=x1, x2=x2)\n",
    "\n",
    "arrays = np.load('test.npz')\n",
    "\n",
    "x1 = arrays['x1']\n",
    "x2 = arrays['x2']\n",
    "\n",
    "print(x1)\n",
    "print(x2)"
   ]
  },
  {
   "cell_type": "code",
   "execution_count": 4,
   "id": "3508b398",
   "metadata": {},
   "outputs": [
    {
     "name": "stdout",
     "output_type": "stream",
     "text": [
      "[1 2 3]\n",
      "[4 5 6]\n"
     ]
    }
   ],
   "source": [
    "x1 = np.array([1, 2, 3])\n",
    "x2 = np.array([4, 5, 6])\n",
    "\n",
    "data =  {\n",
    "    'x1': x1, 'x2': x2\n",
    "}\n",
    "np.savez('test.npz', **data)\n",
    "\n",
    "arrays = np.load('test.npz')\n",
    "x1 = arrays['x1']\n",
    "x2 = arrays['x2']\n",
    "\n",
    "print(x1)\n",
    "print(x2)"
   ]
  },
  {
   "cell_type": "code",
   "execution_count": 5,
   "id": "3739132b",
   "metadata": {},
   "outputs": [
    {
     "name": "stdout",
     "output_type": "stream",
     "text": [
      "{'p2': variable(2), 'p3': variable(3), 'l1/name': variable(1)}\n"
     ]
    }
   ],
   "source": [
    "from mytorch.layers import Layer\n",
    "from mytorch.core import Parameter\n",
    "\n",
    "layer = Layer()\n",
    "\n",
    "l1 = Layer()\n",
    "l1.p1 = Parameter(np.array(1))\n",
    "\n",
    "layer.l1 = l1\n",
    "layer.p2 = Parameter(np.array(2))\n",
    "layer.p3 = Parameter(np.array(3))\n",
    "\n",
    "params_dict = {}\n",
    "layer._flatten_params(params_dict)\n",
    "\n",
    "print(params_dict)"
   ]
  },
  {
   "cell_type": "code",
   "execution_count": 6,
   "id": "9249a020",
   "metadata": {},
   "outputs": [
    {
     "name": "stdout",
     "output_type": "stream",
     "text": [
      "using GPU\n",
      "[1/5] train_loss: 1.922821028585693, accuracy: 0.5528666666666666\n",
      "test_loss: 1.548512612586489, accuracy: 0.716\n",
      "elapse times : 3.554969310760498\n",
      "[2/5] train_loss: 1.2854120410220773, accuracy: 0.7737333333333334\n",
      "test_loss: 1.0428398126816574, accuracy: 0.8202\n",
      "elapse times : 3.2473764419555664\n",
      "[3/5] train_loss: 0.9235410265863565, accuracy: 0.819\n",
      "test_loss: 0.7904263709944886, accuracy: 0.8403\n",
      "elapse times : 3.249432325363159\n",
      "[4/5] train_loss: 0.7388662404325429, accuracy: 0.8405666666666667\n",
      "test_loss: 0.6565948274777448, accuracy: 0.8541\n",
      "elapse times : 3.2711293697357178\n",
      "[5/5] train_loss: 0.6345962548385558, accuracy: 0.8534166666666667\n",
      "test_loss: 0.5755189209622363, accuracy: 0.8688\n",
      "elapse times : 3.2383289337158203\n"
     ]
    }
   ],
   "source": [
    "import time\n",
    "\n",
    "import mytorch\n",
    "import mytorch.functions as F\n",
    "from mytorch import optimizers, DataLoader\n",
    "from mytorch.models import MLP\n",
    "\n",
    "max_epoch = 5\n",
    "batch_size = 100\n",
    "\n",
    "hidden_size = 1000\n",
    "train_set = mytorch.datasets.MNIST(train=True)\n",
    "test_set = mytorch.datasets.MNIST(train=False)\n",
    "\n",
    "train_loader = DataLoader(train_set, batch_size)\n",
    "test_loader = DataLoader(test_set, batch_size, shuffle=False)\n",
    "\n",
    "model = MLP((hidden_size, 10))\n",
    "optim = optimizers.SGD(model.parameters)\n",
    "\n",
    "if mytorch.cuda.gpu_enable:\n",
    "    print(\"using GPU\")\n",
    "    train_loader.to_gpu()\n",
    "    test_loader.to_gpu()\n",
    "    model.to_gpu()\n",
    "\n",
    "\n",
    "for epoch in range(max_epoch):\n",
    "    start = time.time()\n",
    "    sum_loss, sum_acc = 0, 0\n",
    "    for x, t in train_loader:\n",
    "        pred = model(x)\n",
    "        loss = F.softmax_cross_entropy(pred, t)\n",
    "        acc = F.accuracy(pred, t)\n",
    "        \n",
    "        model.zerograd()\n",
    "        loss.backward()\n",
    "        optim.step()\n",
    "        \n",
    "        sum_loss += float(loss.data) * len(t)\n",
    "        sum_acc += float(acc.data) * len(t)\n",
    "    print(f\"[{epoch+1}/{max_epoch}] train_loss: {sum_loss / len(train_set)}, \"\n",
    "          f\"accuracy: {sum_acc / len(train_set)}\")\n",
    "    \n",
    "    sum_loss, sum_acc = 0, 0\n",
    "    with mytorch.no_grad():\n",
    "        for x, t in test_loader:\n",
    "            pred = model(x)\n",
    "            loss = mytorch.functions.softmax_cross_entropy(pred, t)\n",
    "            acc = mytorch.functions.accuracy(pred, t)\n",
    "            sum_loss += float(loss.data) * len(t)\n",
    "            sum_acc += float(acc.data) * len(t)\n",
    "        print(f\"test_loss: {sum_loss / len(test_set)}, \"\n",
    "              f\"accuracy: {sum_acc / len(test_set)}\")\n",
    "    print(f\"elapse times : {time.time() - start}\")\n",
    "\n",
    "model.save_weights('my_mlp.npz')"
   ]
  },
  {
   "cell_type": "code",
   "execution_count": 8,
   "id": "c360dc1f",
   "metadata": {},
   "outputs": [
    {
     "name": "stdout",
     "output_type": "stream",
     "text": [
      "using GPU\n",
      "test_loss: 0.5698821171979376, accuracy: 0.8607\n"
     ]
    }
   ],
   "source": [
    "new_model = MLP((hidden_size, 10))\n",
    "new_model.load_weights('my_mlp.npz')\n",
    "\n",
    "\n",
    "if mytorch.cuda.gpu_enable:\n",
    "    print(\"using GPU\")\n",
    "    new_model.to_gpu()\n",
    "\n",
    "sum_loss, sum_acc = 0, 0\n",
    "with mytorch.no_grad():\n",
    "    for x, t in test_loader:\n",
    "        pred = new_model(x)\n",
    "        loss = mytorch.functions.softmax_cross_entropy(pred, t)\n",
    "        acc = mytorch.functions.accuracy(pred, t)\n",
    "        sum_loss += float(loss.data) * len(t)\n",
    "        sum_acc += float(acc.data) * len(t)\n",
    "    print(f\"test_loss: {sum_loss / len(test_set)}, \"\n",
    "          f\"accuracy: {sum_acc / len(test_set)}\")"
   ]
  }
 ],
 "metadata": {
  "kernelspec": {
   "display_name": "Python 3",
   "language": "python",
   "name": "python3"
  },
  "language_info": {
   "codemirror_mode": {
    "name": "ipython",
    "version": 3
   },
   "file_extension": ".py",
   "mimetype": "text/x-python",
   "name": "python",
   "nbconvert_exporter": "python",
   "pygments_lexer": "ipython3",
   "version": "3.6.9"
  }
 },
 "nbformat": 4,
 "nbformat_minor": 5
}
