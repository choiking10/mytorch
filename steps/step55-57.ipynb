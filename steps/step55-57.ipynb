{
 "cells": [
  {
   "cell_type": "code",
   "execution_count": 1,
   "id": "f44e99d2",
   "metadata": {},
   "outputs": [],
   "source": [
    "import sys\n",
    "sys.path.append(\"..\")"
   ]
  },
  {
   "cell_type": "code",
   "execution_count": 2,
   "id": "d471d94a",
   "metadata": {},
   "outputs": [],
   "source": [
    "def get_conv_outsize(input_size, kernel_size, stride, pad):\n",
    "    return (input_size + 2 * pad - kernel_size) // stride + 1"
   ]
  },
  {
   "cell_type": "code",
   "execution_count": 3,
   "id": "4fcd433b",
   "metadata": {},
   "outputs": [
    {
     "name": "stdout",
     "output_type": "stream",
     "text": [
      "4\n",
      "4\n"
     ]
    }
   ],
   "source": [
    "H, W = 4, 4 \n",
    "KH, KW = 3, 3\n",
    "SH, SW = 1, 1\n",
    "PH, PW = 1, 1\n",
    "print(get_conv_outsize(H, KH, SH, PH))\n",
    "print(get_conv_outsize(W, KW, SW, PW))"
   ]
  },
  {
   "cell_type": "code",
   "execution_count": 4,
   "id": "0e549fc8",
   "metadata": {},
   "outputs": [
    {
     "data": {
      "text/plain": [
       "array([[0., 0., 0., 0., 1., 1., 0., 1., 1.],\n",
       "       [0., 0., 0., 1., 1., 1., 1., 1., 1.],\n",
       "       [0., 0., 0., 1., 1., 0., 1., 1., 0.],\n",
       "       [0., 1., 1., 0., 1., 1., 0., 1., 1.],\n",
       "       [1., 1., 1., 1., 1., 1., 1., 1., 1.],\n",
       "       [1., 1., 0., 1., 1., 0., 1., 1., 0.],\n",
       "       [0., 1., 1., 0., 1., 1., 0., 0., 0.],\n",
       "       [1., 1., 1., 1., 1., 1., 0., 0., 0.],\n",
       "       [1., 1., 0., 1., 1., 0., 0., 0., 0.]])"
      ]
     },
     "execution_count": 4,
     "metadata": {},
     "output_type": "execute_result"
    }
   ],
   "source": [
    "import numpy as np\n",
    "from mytorch.utils import pair\n",
    "\n",
    "img = np.ones((1, 1, 3, 3))\n",
    "kernel_size, stride, pad = 3, 1, 1\n",
    "to_matrix = True\n",
    "\n",
    "# img2col\n",
    "\n",
    "B, C, H, W = img.shape\n",
    "KH, KW = pair(kernel_size)\n",
    "SH, SW = pair(stride)\n",
    "PH, PW = pair(pad)\n",
    "\n",
    "OH = get_conv_outsize(H, KH, SH, PH)\n",
    "OW = get_conv_outsize(W, KW, SW, PW)\n",
    "\n",
    "\n",
    "pad_img = np.pad(img, ((0, 0), (0, 0), (PH, PH + SH - 1), (PW, PW + SW - 1)))\n",
    "\n",
    "col = np.zeros((B, C, KH, KW, OH, OW))\n",
    "\n",
    "for i in range(KH):\n",
    "    i_lim = i + SH * OH\n",
    "    for j in range(KW):\n",
    "        j_lim = j + SW * OW\n",
    "        col[:, :, i, j, :, :] = pad_img[:, :, i:i_lim:SH, j:j_lim:SW]\n",
    "\n",
    "if to_matrix:\n",
    "    col = col.transpose(0, 4, 5, 1, 2, 3).reshape((B * OH * OW, -1))\n",
    "\n",
    "col"
   ]
  },
  {
   "cell_type": "code",
   "execution_count": 5,
   "id": "78905ff6",
   "metadata": {},
   "outputs": [
    {
     "data": {
      "text/plain": [
       "array([[[[4., 6., 4.],\n",
       "         [6., 9., 6.],\n",
       "         [4., 6., 4.]]]])"
      ]
     },
     "execution_count": 5,
     "metadata": {},
     "output_type": "execute_result"
    }
   ],
   "source": [
    "import numpy as np\n",
    "from mytorch.utils import pair\n",
    "\n",
    "img_shape, kernel_size, stride, pad = (1, 1, 3, 3), 3, 1, 1\n",
    "to_matrix = True\n",
    "\n",
    "N, C, H, W = img_shape\n",
    "KH, KW = pair(kernel_size)\n",
    "SH, SW = pair(stride)\n",
    "PH, PW = pair(pad)\n",
    "OH = get_conv_outsize(H, KH, SH, PH)\n",
    "OW = get_conv_outsize(W, KW, SW, PW)\n",
    "\n",
    "if to_matrix:\n",
    "    col = col.reshape(N, OH, OW, C, KH, KW).transpose(0, 3, 4, 5, 1, 2)\n",
    "\n",
    "img = np.zeros((N, C, H + PH * 2 + SH - 1, W + PW * 2 + SW - 1))\n",
    "\n",
    "for i in range(KH):\n",
    "    i_lim = i + SH*OH\n",
    "    for j in range(KW):\n",
    "        j_lim = j + SW * OW\n",
    "        img[:, :, i:i_lim:SH, j:j_lim:SW] += col[:, :, i, j, :, :]\n",
    "img[:, :, PH:PH+H, PW: PW+W]"
   ]
  },
  {
   "cell_type": "code",
   "execution_count": 6,
   "id": "7d9ce679",
   "metadata": {},
   "outputs": [],
   "source": [
    "def im2col(img, kernel_size, stride, pad, to_matrix=True):\n",
    "    B, C, H, W = img.shape\n",
    "    KH, KW = pair(kernel_size)\n",
    "    SH, SW = pair(stride)\n",
    "    PH, PW = pair(pad)\n",
    "\n",
    "    OH = get_conv_outsize(H, KH, SH, PH)\n",
    "    OW = get_conv_outsize(W, KW, SW, PW)\n",
    "\n",
    "\n",
    "    pad_img = np.pad(img, ((0, 0), (0, 0), (PH, PH + SH - 1), (PW, PW + SW - 1)))\n",
    "\n",
    "    col = np.zeros((B, C, KH, KW, OH, OW))\n",
    "\n",
    "    for i in range(KH):\n",
    "        i_lim = i + SH * OH\n",
    "        for j in range(KW):\n",
    "            j_lim = j + SW * OW\n",
    "            col[:, :, i, j, :, :] = pad_img[:, :, i:i_lim:SH, j:j_lim:SW]\n",
    "\n",
    "    if to_matrix:\n",
    "        col = col.transpose(0, 4, 5, 1, 2, 3).reshape((B * OH * OW, -1))\n",
    "    return col\n",
    "\n",
    "def col2im(col, image_shape, kernel_size, stride, pad, to_matrix=True):\n",
    "    \n",
    "    N, C, H, W = img_shape\n",
    "    KH, KW = pair(kernel_size)\n",
    "    SH, SW = pair(stride)\n",
    "    PH, PW = pair(pad)\n",
    "    OH = get_conv_outsize(H, KH, SH, PH)\n",
    "    OW = get_conv_outsize(W, KW, SW, PW)\n",
    "\n",
    "    if to_matrix:\n",
    "        col = col.reshape(N, OH, OW, C, KH, KW).transpose(0, 3, 4, 5, 1, 2)\n",
    "\n",
    "    img = np.zeros((N, C, H + PH * 2 + SH - 1, W + PW * 2 + SW - 1))\n",
    "\n",
    "    for i in range(KH):\n",
    "        i_lim = i + SH*OH\n",
    "        for j in range(KW):\n",
    "            j_lim = j + SW * OW\n",
    "            img[:, :, i:i_lim:SH, j:j_lim:SW] += col[:, :, i, j, :, :]\n",
    "    return img[:, :, PH:PH+H, PW: PW+W]\n",
    "\n",
    "\n"
   ]
  },
  {
   "cell_type": "code",
   "execution_count": 7,
   "id": "c8a5854c",
   "metadata": {},
   "outputs": [
    {
     "name": "stdout",
     "output_type": "stream",
     "text": [
      "[[[[1. 1. 1.]\n",
      "   [1. 1. 1.]\n",
      "   [1. 1. 1.]]]]\n",
      "[[0. 0. 0. 0. 1. 1. 0. 1. 1.]\n",
      " [0. 0. 0. 1. 1. 1. 1. 1. 1.]\n",
      " [0. 0. 0. 1. 1. 0. 1. 1. 0.]\n",
      " [0. 1. 1. 0. 1. 1. 0. 1. 1.]\n",
      " [1. 1. 1. 1. 1. 1. 1. 1. 1.]\n",
      " [1. 1. 0. 1. 1. 0. 1. 1. 0.]\n",
      " [0. 1. 1. 0. 1. 1. 0. 0. 0.]\n",
      " [1. 1. 1. 1. 1. 1. 0. 0. 0.]\n",
      " [1. 1. 0. 1. 1. 0. 0. 0. 0.]]\n",
      "[[[[4. 6. 4.]\n",
      "   [6. 9. 6.]\n",
      "   [4. 6. 4.]]]]\n"
     ]
    }
   ],
   "source": [
    "\n",
    "img = np.ones((1, 1, 3, 3))\n",
    "col = im2col(img, 3, 1, 1)\n",
    "re_im = col2im(col, img.shape, 3, 1, 1)\n",
    "print(img)\n",
    "print(col)\n",
    "print(re_im)"
   ]
  },
  {
   "cell_type": "code",
   "execution_count": 8,
   "id": "11ee9506",
   "metadata": {},
   "outputs": [],
   "source": [
    "from mytorch import as_variable, Variable\n",
    "from mytorch.functions_conv import im2col\n",
    "import mytorch.functions as F\n",
    "\n",
    "def conv2d_simple(x, weight, b=None, stride=1, pad=0):\n",
    "    x, weight = as_variable(x), as_variable(weight)\n",
    "    \n",
    "    N, C, H, W = x.shape \n",
    "    OC, C, KH, KW = weight.shape\n",
    "    col = im2col(x, (KH, KW), stride, pad)\n",
    "    weight = weight.reshape(OC, -1).transpose()\n",
    "    t = F.linear(col, weight, b)\n",
    "    y = t.reshape(N, OH, OW, OC).transpose(0, 3, 1, 2)\n",
    "    return y"
   ]
  },
  {
   "cell_type": "code",
   "execution_count": 10,
   "id": "526d5a6b",
   "metadata": {
    "scrolled": false
   },
   "outputs": [
    {
     "name": "stdout",
     "output_type": "stream",
     "text": [
      "(1, 8, 15, 15)\n",
      "(1, 5, 15, 15)\n"
     ]
    }
   ],
   "source": [
    "\n",
    "from mytorch.functions_conv import conv2d_simple\n",
    "N, C, H, W = 1, 5, 15, 15\n",
    "OC, (KH, KW) = 8, (3, 3)\n",
    "\n",
    "x = Variable(np.random.randn(N,C, H, W))\n",
    "weight = np.random.randn(OC, C, KH, KW)\n",
    "y = conv2d_simple(x, weight, stride=1, pad=1)\n",
    "y.backward()\n",
    "\n",
    "print(y.shape)\n",
    "print(x.grad.shape)"
   ]
  },
  {
   "cell_type": "code",
   "execution_count": null,
   "id": "5a020aaf",
   "metadata": {},
   "outputs": [],
   "source": []
  }
 ],
 "metadata": {
  "kernelspec": {
   "display_name": "Python 3",
   "language": "python",
   "name": "python3"
  },
  "language_info": {
   "codemirror_mode": {
    "name": "ipython",
    "version": 3
   },
   "file_extension": ".py",
   "mimetype": "text/x-python",
   "name": "python",
   "nbconvert_exporter": "python",
   "pygments_lexer": "ipython3",
   "version": "3.6.9"
  }
 },
 "nbformat": 4,
 "nbformat_minor": 5
}
